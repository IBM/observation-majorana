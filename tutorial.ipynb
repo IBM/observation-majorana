{
 "cells": [
  {
   "attachments": {},
   "cell_type": "markdown",
   "id": "673ee469",
   "metadata": {},
   "source": [
    "## Initialize Session\n",
    "\n",
    "This section calls the MajoranaSimulation class and loads your IBM Quantum account information.\n",
    "To run an experiment on the backend or noisy simulation, please replace the placeholders for `api key`, `hub`, `group`, `project` with your information."
   ]
  },
  {
   "cell_type": "code",
   "execution_count": 1,
   "id": "d6062726",
   "metadata": {},
   "outputs": [],
   "source": [
    "from MajoranaSimulation import MajoranaSimulation\n",
    "\n",
    "#please enter your IBMQ account information below\n",
    "api_key = 'your_api_key'\n",
    "hub = 'your_hub' #e.g. 'ibm-q'\n",
    "group = 'your_group' #e.g. 'open'\n",
    "project = 'your_project' #e.g. 'main'\n",
    "\n",
    "msim = MajoranaSimulation(api_key,hub,group,project)"
   ]
  },
  {
   "attachments": {},
   "cell_type": "markdown",
   "id": "2389d925",
   "metadata": {},
   "source": [
    "If you have logged in before, set `reload = False`. If you haven't logged in before or want to load new account credentials, set `reload = True`"
   ]
  },
  {
   "cell_type": "code",
   "execution_count": 2,
   "id": "a509c503",
   "metadata": {},
   "outputs": [],
   "source": [
    "reload = True\n",
    "msim.load_account(reload)"
   ]
  },
  {
   "attachments": {},
   "cell_type": "markdown",
   "id": "ff0f71b8",
   "metadata": {},
   "source": [
    "## Run Simulation\n",
    "\n",
    "This section runs a simulation based on parameters you set. Some important parameters include:\n",
    "\n",
    "**Physical Parameters**\n",
    "* `experiment` (str; the experiment you want to run: `'wavefunction'`, `'braiding'`, or `'two_point_correlation'`)\n",
    "* `n_qubits` (int; number of qubits)\n",
    "* `n_cycles` (int; maximum number of times the Floquet unitary is applied. Equal to `D-1` in the paper)\n",
    "* `theta` (float; RXX gate angle $\\theta$)\n",
    "* `phi` (float; RZ gate angle $\\phi$)\n",
    "* `eta` (float; RZZ gate angle $\\varphi$, used to introduce interactions)\n",
    "* `alpha` (float; NB: ONLY FOR BRAIDING. Gate angle for the braiding gate (see paper))\n",
    "  \n",
    "**Hardware Parameters**\n",
    "* `n_shots` (number of times each circuit is run on the simulator. Default is 8192)\n",
    "* `layout` (list; the indices of the actual qubits you want to map your virtual qubits to, if doing a noisy simulation)\n",
    "* `noise_type` (str or None; options are `None` (for noiseless sim) and `'backend_model'` (for noisy sim))\n",
    "* `backend_to_simulate` (str; the name of the backend whose noise model you want to simulate, ONLY if doing a noiseless simulation)"
   ]
  },
  {
   "cell_type": "code",
   "execution_count": 4,
   "id": "93eff2ca",
   "metadata": {},
   "outputs": [
    {
     "data": {
      "text/plain": [
       "{'x_axis': range(0, 6),\n",
       " 'theory for left ZX': array([0.84104636, 0.34834246, 0.14418975, 0.05947733, 0.02403326,\n",
       "        0.00849726]),\n",
       " 'theory for left ZY': array([0.34834246, 0.14418975, 0.05947733, 0.02403326, 0.00849726,\n",
       "        0.        ]),\n",
       " 'theory for right ZX': array([0.00849726, 0.02403326, 0.05947733, 0.14418975, 0.34834246,\n",
       "        0.84104636]),\n",
       " 'theory for right ZY': array([0.        , 0.00849726, 0.02403326, 0.05947733, 0.14418975,\n",
       "        0.34834246]),\n",
       " 'experiment for left ZX': array([0.85145355, 0.35990306, 0.14911436, 0.07142209, 0.04860707,\n",
       "        0.04881783]),\n",
       " 'experiment for left ZY': array([0.30642211, 0.13104149, 0.03401177, 0.00113285, 0.02363173,\n",
       "        0.02513341]),\n",
       " 'experiment for right ZX': array([0.04416102, 0.04516228, 0.07604338, 0.1483452 , 0.35531704,\n",
       "        0.85104822]),\n",
       " 'experiment for right ZY': array([0.02482081, 0.02347701, 0.00250316, 0.03549218, 0.13253576,\n",
       "        0.31255252])}"
      ]
     },
     "execution_count": 4,
     "metadata": {},
     "output_type": "execute_result"
    }
   ],
   "source": [
    "# run a simulation\n",
    "msim.backend = 'qasm_simulator'\n",
    "\n",
    "# specify the type of experiment: 'wavefunction', 'braiding', or 'two_point_correlation'\n",
    "msim.experiment = 'wavefunction'\n",
    "\n",
    "# Option 1: for a noiseless simulation\n",
    "msim.noise_type = None\n",
    "\n",
    "# Option 2: for a noisy simulation\n",
    "# msim.noise_type = 'backend_model'\n",
    "# msim.backend_to_simulate = 'ibm_perth'\n",
    "\n",
    "# set experiment parameters\n",
    "msim.n_qubits = 6\n",
    "msim.n_cycles = 10\n",
    "\n",
    "# run simulation\n",
    "msim.execute()\n",
    "\n",
    "# print results\n",
    "msim.results"
   ]
  },
  {
   "attachments": {},
   "cell_type": "markdown",
   "id": "8a0dad9c",
   "metadata": {},
   "source": [
    "## Run Experiment on Quantum Device\n",
    "\n",
    "This section runs an experiment based on parameters you set. Some important parameters include:\n",
    "\n",
    "**Physical Parameters**\n",
    "* `experiment` (str; the experiment you want to run: 'wavefunction', 'braiding', or 'two_point_correlation')\n",
    "* `n_qubits` (int; number of qubits)\n",
    "* `n_cycles` (int; maximum number of times the Floquet unitary $U_F$ is applied. Equal to `D-1` in the paper)\n",
    "* `theta` (float; $RXX(\\theta)$ gate angle)\n",
    "* `phi` (float; $RZ(\\phi)$ gate angle)\n",
    "* `eta` (float; $RZZ(\\varphi)$ gate angle, used to introduce interactions)\n",
    "* `alpha` (float; NB: ONLY FOR BRAIDING. Gate angle for the braiding gate (see paper))\n",
    "  \n",
    "**Hardware Parameters**\n",
    "* `n_shots` (number of times each circuit is run on the backend. Default is 8192)\n",
    "* `layout` (list; the indices of the actual qubits you want to map your virtual qubits to)\n",
    "* `backend` (str; the name of the backend you want to use)"
   ]
  },
  {
   "cell_type": "code",
   "execution_count": null,
   "id": "dde43ecc",
   "metadata": {},
   "outputs": [],
   "source": [
    "# run an experiment on a quantum device\n",
    "msim.backend = 'ibmq_lagos'\n",
    "\n",
    "# first, specify the experiment: 'wavefunction', 'braiding', or 'two_point_correlation'\n",
    "msim.experiment = 'two_point_correlation'\n",
    "\n",
    "# set experiment parameters\n",
    "msim.n_qubits = 6\n",
    "msim.n_cycles = 10\n",
    "msim.layout = [0,1,2,3,4,5]\n",
    "\n",
    "# run experiment\n",
    "msim.execute()\n",
    "\n",
    "# print results\n",
    "msim.results"
   ]
  },
  {
   "attachments": {},
   "cell_type": "markdown",
   "id": "6c988e58",
   "metadata": {},
   "source": [
    "## Save Data\n",
    "\n",
    "This section saves simulation/experimental data generated above to the directory `./Data/your_folder_name`. "
   ]
  },
  {
   "cell_type": "code",
   "execution_count": 5,
   "id": "cdffd9e3",
   "metadata": {},
   "outputs": [
    {
     "name": "stdout",
     "output_type": "stream",
     "text": [
      "Wavefunction data saved successfully to ./Data/your_folder_name\n"
     ]
    }
   ],
   "source": [
    "# specify destination file\n",
    "directory = './Data/your_folder_name'\n",
    "\n",
    "# save data\n",
    "msim.save_data(directory)"
   ]
  },
  {
   "attachments": {},
   "cell_type": "markdown",
   "id": "118b206a",
   "metadata": {},
   "source": [
    "## Load Data\n",
    "\n",
    "This section loads previously stored data from a specified folder. You have the following options:\n",
    "1. `./Data/your_folder_name`: loads the simulation/experimental data generated above\n",
    "2. `./paper_data/insert_experiment_name/figxx`: loads existing data for Fig. xx"
   ]
  },
  {
   "cell_type": "code",
   "execution_count": 9,
   "id": "d1289c86",
   "metadata": {},
   "outputs": [
    {
     "name": "stdout",
     "output_type": "stream",
     "text": [
      "wavefunction data loaded successfully from ./paper_data/wavefunction/fig2a\n"
     ]
    },
    {
     "data": {
      "text/plain": [
       "{'theory': 'adapted from Oles \"majorana_modes\" code',\n",
       " 'regime': 'MZM',\n",
       " 'num_qubits': 10,\n",
       " 'num gate cycles': 10,\n",
       " 'num_shots': 8192,\n",
       " 'device': 'ibmq_montreal',\n",
       " 'backend_to_simulate': None,\n",
       " 'noise_type': None,\n",
       " 'layout': [1, 2, 3, 5, 8, 11, 14, 16, 19, 22],\n",
       " 'theta': 0.25,\n",
       " 'phi': 0.125,\n",
       " 'eta': 0.0,\n",
       " 'experiment': 'wavefunction'}"
      ]
     },
     "execution_count": 9,
     "metadata": {},
     "output_type": "execute_result"
    }
   ],
   "source": [
    "# specify load directory\n",
    "directory = './paper_data/wavefunction/fig2a'\n",
    "\n",
    "# load data\n",
    "msim.load_data(directory)\n",
    "\n",
    "#print experimental parameters\n",
    "msim.params"
   ]
  },
  {
   "attachments": {},
   "cell_type": "markdown",
   "id": "e6bdf0c8",
   "metadata": {},
   "source": [
    "## Plot Data"
   ]
  },
  {
   "cell_type": "code",
   "execution_count": 10,
   "id": "65472507",
   "metadata": {},
   "outputs": [
    {
     "data": {
      "image/png": "[encoded data removed]",
      "text/plain": [
       "<Figure size 400x300 with 1 Axes>"
      ]
     },
     "metadata": {},
     "output_type": "display_data"
    },
    {
     "data": {
      "image/png": "[encoded data removed]",
      "text/plain": [
       "<Figure size 400x300 with 1 Axes>"
      ]
     },
     "metadata": {},
     "output_type": "display_data"
    }
   ],
   "source": [
    "msim.plot_data()"
   ]
  },
  {
   "cell_type": "code",
   "execution_count": null,
   "id": "9a3da157",
   "metadata": {},
   "outputs": [],
   "source": []
  }
 ],
 "metadata": {
  "kernelspec": {
   "display_name": "testMajorana",
   "language": "python",
   "name": "python3"
  },
  "language_info": {
   "codemirror_mode": {
    "name": "ipython",
    "version": 3
   },
   "file_extension": ".py",
   "mimetype": "text/x-python",
   "name": "python",
   "nbconvert_exporter": "python",
   "pygments_lexer": "ipython3",
   "version": "3.10.9 (main, Jan 11 2023, 09:18:20) [Clang 14.0.6 ]"
  },
  "vscode": {
   "interpreter": {
    "hash": "28666c8fa2fe0a6e6a1133fd8d7a8b9f4472eb4717f1e1db46de20d89c869bfe"
   }
  }
 },
 "nbformat": 4,
 "nbformat_minor": 5
}
